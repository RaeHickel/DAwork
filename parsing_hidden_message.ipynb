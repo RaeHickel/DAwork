{
  "nbformat": 4,
  "nbformat_minor": 0,
  "metadata": {
    "colab": {
      "provenance": [],
      "authorship_tag": "ABX9TyNJpLBT6Jg1on89hGFyIt5g",
      "include_colab_link": true
    },
    "kernelspec": {
      "name": "python3",
      "display_name": "Python 3"
    },
    "language_info": {
      "name": "python"
    }
  },
  "cells": [
    {
      "cell_type": "markdown",
      "metadata": {
        "id": "view-in-github",
        "colab_type": "text"
      },
      "source": [
        "<a href=\"https://colab.research.google.com/github/RaeHickel/DAwork/blob/main/parsing_hidden_message.ipynb\" target=\"_parent\"><img src=\"https://colab.research.google.com/assets/colab-badge.svg\" alt=\"Open In Colab\"/></a>"
      ]
    },
    {
      "cell_type": "code",
      "execution_count": 2,
      "metadata": {
        "colab": {
          "base_uri": "https://localhost:8080/"
        },
        "id": "6WtRB1v1zuPY",
        "outputId": "202056d3-d892-4245-db81-da6f26b1883c"
      },
      "outputs": [
        {
          "output_type": "stream",
          "name": "stdout",
          "text": [
            " \n"
          ]
        }
      ],
      "source": [
        "import requests\n",
        "from bs4 import BeautifulSoup\n",
        "\n",
        "def decode_secret_message_from_doc(doc_url):\n",
        "    response = requests.get(doc_url)\n",
        "    soup = BeautifulSoup(response.text, 'html.parser')\n",
        "\n",
        "    # Extract only the text content\n",
        "    full_text = soup.get_text()\n",
        "\n",
        "    points = []\n",
        "    max_x = 0\n",
        "    max_y = 0\n",
        "\n",
        "    for line in full_text.strip().splitlines():\n",
        "        parts = line.strip().split()\n",
        "        if len(parts) != 3:\n",
        "            continue\n",
        "        try:\n",
        "            char, x, y = parts[0], int(parts[1]), int(parts[2])\n",
        "        except ValueError:\n",
        "            continue\n",
        "        points.append((char, x, y))\n",
        "        max_x = max(max_x, x)\n",
        "        max_y = max(max_y, y)\n",
        "\n",
        "    grid = [[' ' for _ in range(max_x + 1)] for _ in range(max_y + 1)]\n",
        "\n",
        "    for char, x, y in points:\n",
        "        grid[y][x] = char\n",
        "\n",
        "    for row in grid:\n",
        "        print(''.join(row))\n",
        "\n",
        "\n",
        "# Run it\n",
        "decode_secret_message_from_doc(\"https://docs.google.com/document/d/e/2PACX-1vSZ1vDD85PCR1d5QC2XwbXClC1Kuh3a4u0y3VbTvTFQI53erafhUkGot24ulET8ZRqFSzYoi3pLTGwM/pub\")\n"
      ]
    },
    {
      "cell_type": "code",
      "source": [],
      "metadata": {
        "id": "5dfpbYkkz0PU"
      },
      "execution_count": null,
      "outputs": []
    }
  ]
}